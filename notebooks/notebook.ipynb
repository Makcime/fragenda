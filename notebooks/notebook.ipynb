{
 "cells": [
  {
   "cell_type": "code",
   "execution_count": 153,
   "id": "2c867201-af89-4e28-b0e2-ae32b9a01bc0",
   "metadata": {},
   "outputs": [],
   "source": [
    "import pandas as pd\n",
    "from openpyxl import load_workbook\n",
    "from openpyxl import drawing \n",
    "import openpyxl"
   ]
  },
  {
   "cell_type": "code",
   "execution_count": 154,
   "id": "dc0ff10f-76fe-4995-b117-fce60c23e444",
   "metadata": {},
   "outputs": [],
   "source": [
    "df = pd.read_excel(\"../input/horaires.xlsx\", \"input\")\n",
    "wb = load_workbook(filename=\"../templates/schedule_template.xlsx\")"
   ]
  },
  {
   "cell_type": "code",
   "execution_count": 155,
   "id": "da488bb9-3c57-415c-9f2c-56f89fdc7014",
   "metadata": {},
   "outputs": [],
   "source": [
    "df[\"sem\"] = df.semaine.apply(lambda x: \"a\" if \"A\" in x else \"b\")"
   ]
  },
  {
   "cell_type": "code",
   "execution_count": 156,
   "id": "58b98d72-25d4-4ce5-8ffc-b7001d105d1f",
   "metadata": {},
   "outputs": [],
   "source": [
    "template = wb[\"template\"]"
   ]
  },
  {
   "cell_type": "code",
   "execution_count": 129,
   "id": "885428d3-32f1-4841-bd97-cfa1bf55f438",
   "metadata": {},
   "outputs": [],
   "source": [
    "# get all tags in sheet\n",
    "tags = {}\n",
    "for row in template.iter_rows():\n",
    "    for cell in row:\n",
    "        if cell.value:\n",
    "            if \"{\" in cell.value:\n",
    "                tags[cell.value] = {\n",
    "                    \"value\" : \"\", # free all tags content\n",
    "                    \"col\" : cell.column,\n",
    "                    \"row\": cell.row\n",
    "                }"
   ]
  },
  {
   "cell_type": "code",
   "execution_count": 130,
   "id": "48c0cb30-1e9b-4a2e-8649-46a337734f4d",
   "metadata": {},
   "outputs": [],
   "source": [
    "classes = df.classe.unique()"
   ]
  },
  {
   "cell_type": "code",
   "execution_count": 131,
   "id": "82f59e0e-3901-4eac-9c1f-12bf6953a8ca",
   "metadata": {},
   "outputs": [],
   "source": [
    "classe = df[df.classe == \"2E\"].copy()"
   ]
  },
  {
   "cell_type": "code",
   "execution_count": 132,
   "id": "e3d98352-41b8-4f39-93e9-e139248afe57",
   "metadata": {},
   "outputs": [],
   "source": [
    "# copy template\n",
    "sheet = wb.copy_worksheet(wb[\"template\"])\n",
    "sheet.title = \"2E\""
   ]
  },
  {
   "cell_type": "code",
   "execution_count": 133,
   "id": "a5ce52c8-412b-48bf-8776-c4f9d3117785",
   "metadata": {},
   "outputs": [],
   "source": [
    "# add logo\n",
    "img = drawing.image.Image('../templates/Logo Ecole .jpg')\n",
    "scale = 0.1\n",
    "img.width = img.width * scale\n",
    "img.height = img.height * scale\n",
    "sheet.add_image(img, 'A1')"
   ]
  },
  {
   "cell_type": "code",
   "execution_count": 134,
   "id": "dfeb1f49-7e87-4f5b-9cb1-952e2b9893f4",
   "metadata": {},
   "outputs": [],
   "source": [
    "tags[\"{classe}\"][\"value\"] = \"2E\""
   ]
  },
  {
   "cell_type": "code",
   "execution_count": 135,
   "id": "e3c62093-a1f3-49fd-b5f7-5b91284355b6",
   "metadata": {},
   "outputs": [],
   "source": [
    "# Populate the tags\n",
    "for i, r in classe.iterrows():\n",
    "    t = f\"{{j{r['#day']}{r.plage.lower()}{r['sem']}\"\n",
    "   \n",
    "    tags[t+\"c}\"][\"value\"] = r['cours'].upper()\n",
    "    tags[t+\"p}\"][\"value\"] = r[\"pro\"]\n",
    "    #tags[t+\"o}\"][\"value\"] = r[\"code horaire\"]\n",
    "    tags[t+\"o}\"][\"value\"] = \"\"\n",
    "    tags[t+\"l}\"][\"value\"] = r[\"/\"]"
   ]
  },
  {
   "cell_type": "code",
   "execution_count": 136,
   "id": "2387cfc1-044b-4cd2-bf6d-52701fbc34ab",
   "metadata": {},
   "outputs": [],
   "source": [
    "# populate the tags in the new sheet\n",
    "for t in tags:\n",
    "    sheet.cell(row=tags[t]['row'], column=tags[t]['col']).value = tags[t]['value']"
   ]
  },
  {
   "cell_type": "code",
   "execution_count": 137,
   "id": "7d724595-80b1-4c01-a934-07cd87399cbf",
   "metadata": {},
   "outputs": [],
   "source": [
    "# Merge cells if needed\n",
    "for i, r in classe.iterrows():\n",
    "    t = f\"{{j{r['#day']}{r.plage.lower()}{r['sem']}\"\n",
    "    \n",
    "    # if AB course, get the corresponding b tag for merging\n",
    "    if r.semaine == 'AB':\n",
    "        tb = f\"{{j{r['#day']}{r.plage.lower()}b\"\n",
    "        for j in ['c', 'p', 'o', 'l']:\n",
    "            sheet.merge_cells(\n",
    "                start_row=tags[t+j+\"}\"]['row'],\n",
    "                start_column=tags[t+j+\"}\"]['col'],\n",
    "                end_row=tags[tb+j+\"}\"]['row'],\n",
    "                end_column=tags[tb+j+\"}\"]['col']\n",
    "            )  "
   ]
  },
  {
   "cell_type": "code",
   "execution_count": 158,
   "id": "1df20388-5f96-4730-9776-896f34d5a4e7",
   "metadata": {},
   "outputs": [],
   "source": [
    "# Save result\n",
    "wb.save(\"../output/schedule_classe.xlsx\")"
   ]
  },
  {
   "cell_type": "code",
   "execution_count": 157,
   "id": "4f0b2f1c-7d46-41ec-98e6-8f1961084326",
   "metadata": {},
   "outputs": [
    {
     "name": "stdout",
     "output_type": "stream",
     "text": [
      "1A\n",
      "1B\n",
      "1C\n",
      "1D\n",
      "1E\n",
      "2A\n",
      "2B\n",
      "2C\n",
      "2E\n",
      "2F\n",
      "2G\n",
      "2SA\n",
      "2SB\n",
      "3A\n",
      "3B\n",
      "3C\n",
      "3D\n",
      "4A\n",
      "4B\n",
      "4C\n",
      "4D\n",
      "5A\n",
      "5B\n",
      "6A\n",
      "6B\n",
      "6C\n"
     ]
    }
   ],
   "source": [
    "for cl in classes :\n",
    "    print(cl)\n",
    "    # get all tags from template\n",
    "    tags = {}\n",
    "    for row in template.iter_rows():\n",
    "        for cell in row:\n",
    "            if cell.value:\n",
    "                if \"{\" in cell.value:\n",
    "                    tags[cell.value] = {\n",
    "                        \"value\" : \"\", # free all tags content\n",
    "                        \"col\" : cell.column,\n",
    "                        \"row\": cell.row\n",
    "                    }\n",
    "\n",
    "    \n",
    "    # get the data\n",
    "    classe = df[df.classe == cl].copy()\n",
    "    \n",
    "    classe.replace(\"P00\", \"P0\", inplace=True)\n",
    "    classe.replace(\"P01\", \"P1\", inplace=True)\n",
    "    \n",
    "    # copy template\n",
    "    sheet = wb.copy_worksheet(wb[\"template\"])\n",
    "    sheet.title = cl\n",
    "\n",
    "    # add logo\n",
    "    img = drawing.image.Image('../templates/Logo Ecole .jpg')\n",
    "    scale = 0.1\n",
    "    img.width = img.width * scale\n",
    "    img.height = img.height * scale\n",
    "    sheet.add_image(img, 'A1')\n",
    "\n",
    "    # set title\n",
    "    tags[\"{classe}\"][\"value\"] = cl\n",
    "\n",
    "    # Populate the tags\n",
    "    for i, r in classe.iterrows():\n",
    "        t = f\"{{j{r['#day']}{r.plage.lower()}{r['sem']}\"\n",
    "       \n",
    "        tags[t+\"c}\"][\"value\"] = r['cours'].upper()\n",
    "        tags[t+\"p}\"][\"value\"] = r[\"pro\"]\n",
    "        #tags[t+\"o}\"][\"value\"] = r[\"code horaire\"]\n",
    "        tags[t+\"o}\"][\"value\"] = \"\"\n",
    "        tags[t+\"l}\"][\"value\"] = r[\"/\"]\n",
    "\n",
    "    # populate the tags in the new sheet\n",
    "    for t in tags:\n",
    "        sheet.cell(row=tags[t]['row'], column=tags[t]['col']).value = tags[t]['value']\n",
    "\n",
    "    # Merge cells if needed\n",
    "    for i, r in classe.iterrows():\n",
    "        t = f\"{{j{r['#day']}{r.plage.lower()}{r['sem']}\"\n",
    "        \n",
    "        # if AB course, get the corresponding b tag for merging\n",
    "        if r.semaine == 'AB':\n",
    "            tb = f\"{{j{r['#day']}{r.plage.lower()}b\"\n",
    "            for j in ['c', 'p', 'o', 'l']:\n",
    "                sheet.merge_cells(\n",
    "                    start_row=tags[t+j+\"}\"]['row'],\n",
    "                    start_column=tags[t+j+\"}\"]['col'],\n",
    "                    end_row=tags[tb+j+\"}\"]['row'],\n",
    "                    end_column=tags[tb+j+\"}\"]['col']\n",
    "                )  "
   ]
  },
  {
   "cell_type": "code",
   "execution_count": null,
   "id": "ec502a18-9e22-4931-8379-eed86dcb550f",
   "metadata": {},
   "outputs": [],
   "source": []
  },
  {
   "cell_type": "code",
   "execution_count": null,
   "id": "1d102a90-d730-429a-b9d7-8b4e81cd2700",
   "metadata": {},
   "outputs": [],
   "source": []
  },
  {
   "cell_type": "code",
   "execution_count": null,
   "id": "58b5add0-259d-41f5-bf1d-a43c654831b0",
   "metadata": {},
   "outputs": [],
   "source": []
  }
 ],
 "metadata": {
  "kernelspec": {
   "display_name": "Python 3 (ipykernel)",
   "language": "python",
   "name": "python3"
  },
  "language_info": {
   "codemirror_mode": {
    "name": "ipython",
    "version": 3
   },
   "file_extension": ".py",
   "mimetype": "text/x-python",
   "name": "python",
   "nbconvert_exporter": "python",
   "pygments_lexer": "ipython3",
   "version": "3.10.12"
  }
 },
 "nbformat": 4,
 "nbformat_minor": 5
}
