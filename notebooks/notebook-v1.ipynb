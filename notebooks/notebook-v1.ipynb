{
 "cells": [
  {
   "cell_type": "code",
   "execution_count": 2,
   "id": "2c867201-af89-4e28-b0e2-ae32b9a01bc0",
   "metadata": {},
   "outputs": [],
   "source": [
    "import pandas as pd\n",
    "from openpyxl import load_workbook\n",
    "from openpyxl import drawing \n",
    "import openpyxl"
   ]
  },
  {
   "cell_type": "code",
   "execution_count": 3,
   "id": "dc0ff10f-76fe-4995-b117-fce60c23e444",
   "metadata": {},
   "outputs": [],
   "source": [
    "df = pd.read_excel(\"../input/inputSM_2025-2026.xlsx\", \"input\")\n",
    "wb = load_workbook(filename=\"../templates/schedule_template.xlsx\")"
   ]
  },
  {
   "cell_type": "code",
   "execution_count": 4,
   "id": "da488bb9-3c57-415c-9f2c-56f89fdc7014",
   "metadata": {},
   "outputs": [],
   "source": [
    "df[\"sem\"] = df.semaine.apply(lambda x: \"a\" if \"A\" in x else \"b\")"
   ]
  },
  {
   "cell_type": "code",
   "execution_count": 5,
   "id": "58b98d72-25d4-4ce5-8ffc-b7001d105d1f",
   "metadata": {},
   "outputs": [],
   "source": [
    "template = wb[\"template\"]"
   ]
  },
  {
   "cell_type": "code",
   "execution_count": 6,
   "id": "885428d3-32f1-4841-bd97-cfa1bf55f438",
   "metadata": {},
   "outputs": [],
   "source": [
    "# get all tags in sheet\n",
    "tags = {}\n",
    "for row in template.iter_rows():\n",
    "    for cell in row:\n",
    "        if cell.value:\n",
    "            if \"{\" in cell.value:\n",
    "                tags[cell.value] = {\n",
    "                    \"value\" : \"\", # free all tags content\n",
    "                    \"col\" : cell.column,\n",
    "                    \"row\": cell.row\n",
    "                }"
   ]
  },
  {
   "cell_type": "code",
   "execution_count": 7,
   "id": "f9d597dc-db14-40f5-9ad1-fe5ec010bf83",
   "metadata": {},
   "outputs": [
    {
     "name": "stdout",
     "output_type": "stream",
     "text": [
      "{'{classe}': {'value': '', 'col': 4, 'row': 3}, '{j1p1ac}': {'value': '', 'col': 4, 'row': 8}, '{j1p1bc}': {'value': '', 'col': 5, 'row': 8}, '{j2p1ac}': {'value': '', 'col': 6, 'row': 8}, '{j2p1bc}': {'value': '', 'col': 7, 'row': 8}, '{j3p1ac}': {'value': '', 'col': 8, 'row': 8}, '{j3p1bc}': {'value': '', 'col': 9, 'row': 8}, '{j4p1ac}': {'value': '', 'col': 10, 'row': 8}, '{j4p1bc}': {'value': '', 'col': 11, 'row': 8}, '{j5p1ac}': {'value': '', 'col': 12, 'row': 8}, '{j5p1bc}': {'value': '', 'col': 13, 'row': 8}, '{j1p1ap}': {'value': '', 'col': 4, 'row': 9}, '{j1p1bp}': {'value': '', 'col': 5, 'row': 9}, '{j2p1ap}': {'value': '', 'col': 6, 'row': 9}, '{j2p1bp}': {'value': '', 'col': 7, 'row': 9}, '{j3p1ap}': {'value': '', 'col': 8, 'row': 9}, '{j3p1bp}': {'value': '', 'col': 9, 'row': 9}, '{j4p1ap}': {'value': '', 'col': 10, 'row': 9}, '{j4p1bp}': {'value': '', 'col': 11, 'row': 9}, '{j5p1ap}': {'value': '', 'col': 12, 'row': 9}, '{j5p1bp}': {'value': '', 'col': 13, 'row': 9}, '{j1p1ao}': {'value': '', 'col': 4, 'row': 10}, '{j1p1bo}': {'value': '', 'col': 5, 'row': 10}, '{j2p1ao}': {'value': '', 'col': 6, 'row': 10}, '{j2p1bo}': {'value': '', 'col': 7, 'row': 10}, '{j3p1ao}': {'value': '', 'col': 8, 'row': 10}, '{j3p1bo}': {'value': '', 'col': 9, 'row': 10}, '{j4p1ao}': {'value': '', 'col': 10, 'row': 10}, '{j4p1bo}': {'value': '', 'col': 11, 'row': 10}, '{j5p1ao}': {'value': '', 'col': 12, 'row': 10}, '{j5p1bo}': {'value': '', 'col': 13, 'row': 10}, '{j1p1al}': {'value': '', 'col': 4, 'row': 11}, '{j1p1bl}': {'value': '', 'col': 5, 'row': 11}, '{j2p1al}': {'value': '', 'col': 6, 'row': 11}, '{j2p1bl}': {'value': '', 'col': 7, 'row': 11}, '{j3p1al}': {'value': '', 'col': 8, 'row': 11}, '{j3p1bl}': {'value': '', 'col': 9, 'row': 11}, '{j4p1al}': {'value': '', 'col': 10, 'row': 11}, '{j4p1bl}': {'value': '', 'col': 11, 'row': 11}, '{j5p1al}': {'value': '', 'col': 12, 'row': 11}, '{j5p1bl}': {'value': '', 'col': 13, 'row': 11}, '{j1p2ac}': {'value': '', 'col': 4, 'row': 15}, '{j1p2bc}': {'value': '', 'col': 5, 'row': 15}, '{j2p2ac}': {'value': '', 'col': 6, 'row': 15}, '{j2p2bc}': {'value': '', 'col': 7, 'row': 15}, '{j3p2ac}': {'value': '', 'col': 8, 'row': 15}, '{j3p2bc}': {'value': '', 'col': 9, 'row': 15}, '{j4p2ac}': {'value': '', 'col': 10, 'row': 15}, '{j4p2bc}': {'value': '', 'col': 11, 'row': 15}, '{j5p2ac}': {'value': '', 'col': 12, 'row': 15}, '{j5p2bc}': {'value': '', 'col': 13, 'row': 15}, '{j1p2ap}': {'value': '', 'col': 4, 'row': 16}, '{j1p2bp}': {'value': '', 'col': 5, 'row': 16}, '{j2p2ap}': {'value': '', 'col': 6, 'row': 16}, '{j2p2bp}': {'value': '', 'col': 7, 'row': 16}, '{j3p2ap}': {'value': '', 'col': 8, 'row': 16}, '{j3p2bp}': {'value': '', 'col': 9, 'row': 16}, '{j4p2ap}': {'value': '', 'col': 10, 'row': 16}, '{j4p2bp}': {'value': '', 'col': 11, 'row': 16}, '{j5p2ap}': {'value': '', 'col': 12, 'row': 16}, '{j5p2bp}': {'value': '', 'col': 13, 'row': 16}, '{j1p2ao}': {'value': '', 'col': 4, 'row': 17}, '{j1p2bo}': {'value': '', 'col': 5, 'row': 17}, '{j2p2ao}': {'value': '', 'col': 6, 'row': 17}, '{j2p2bo}': {'value': '', 'col': 7, 'row': 17}, '{j3p2ao}': {'value': '', 'col': 8, 'row': 17}, '{j3p2bo}': {'value': '', 'col': 9, 'row': 17}, '{j4p2ao}': {'value': '', 'col': 10, 'row': 17}, '{j4p2bo}': {'value': '', 'col': 11, 'row': 17}, '{j5p2ao}': {'value': '', 'col': 12, 'row': 17}, '{j5p2bo}': {'value': '', 'col': 13, 'row': 17}, '{j1p2al}': {'value': '', 'col': 4, 'row': 18}, '{j1p2bl}': {'value': '', 'col': 5, 'row': 18}, '{j2p2al}': {'value': '', 'col': 6, 'row': 18}, '{j2p2bl}': {'value': '', 'col': 7, 'row': 18}, '{j3p2al}': {'value': '', 'col': 8, 'row': 18}, '{j3p2bl}': {'value': '', 'col': 9, 'row': 18}, '{j4p2al}': {'value': '', 'col': 10, 'row': 18}, '{j4p2bl}': {'value': '', 'col': 11, 'row': 18}, '{j5p2al}': {'value': '', 'col': 12, 'row': 18}, '{j5p2bl}': {'value': '', 'col': 13, 'row': 18}, '{j1p3ac}': {'value': '', 'col': 4, 'row': 24}, '{j1p3bc}': {'value': '', 'col': 5, 'row': 24}, '{j2p3ac}': {'value': '', 'col': 6, 'row': 24}, '{j2p3bc}': {'value': '', 'col': 7, 'row': 24}, '{j3p25ac}': {'value': '', 'col': 8, 'row': 24}, '{j3p25bc}': {'value': '', 'col': 9, 'row': 24}, '{j4p3ac}': {'value': '', 'col': 10, 'row': 24}, '{j4p3bc}': {'value': '', 'col': 11, 'row': 24}, '{j5p3ac}': {'value': '', 'col': 12, 'row': 24}, '{j5p3bc}': {'value': '', 'col': 13, 'row': 24}, '{j1p3ap}': {'value': '', 'col': 4, 'row': 25}, '{j1p3bp}': {'value': '', 'col': 5, 'row': 25}, '{j2p3ap}': {'value': '', 'col': 6, 'row': 25}, '{j2p3bp}': {'value': '', 'col': 7, 'row': 25}, '{j3p25ap}': {'value': '', 'col': 8, 'row': 25}, '{j3p25bp}': {'value': '', 'col': 9, 'row': 25}, '{j4p3ap}': {'value': '', 'col': 10, 'row': 25}, '{j4p3bp}': {'value': '', 'col': 11, 'row': 25}, '{j5p3ap}': {'value': '', 'col': 12, 'row': 25}, '{j5p3bp}': {'value': '', 'col': 13, 'row': 25}, '{j1p3ao}': {'value': '', 'col': 4, 'row': 26}, '{j1p3bo}': {'value': '', 'col': 5, 'row': 26}, '{j2p3ao}': {'value': '', 'col': 6, 'row': 26}, '{j2p3bo}': {'value': '', 'col': 7, 'row': 26}, '{j3p25ao}': {'value': '', 'col': 8, 'row': 26}, '{j3p25bo}': {'value': '', 'col': 9, 'row': 26}, '{j4p3ao}': {'value': '', 'col': 10, 'row': 26}, '{j4p3bo}': {'value': '', 'col': 11, 'row': 26}, '{j5p3ao}': {'value': '', 'col': 12, 'row': 26}, '{j5p3bo}': {'value': '', 'col': 13, 'row': 26}, '{j1p3al}': {'value': '', 'col': 4, 'row': 27}, '{j1p3bl}': {'value': '', 'col': 5, 'row': 27}, '{j2p3al}': {'value': '', 'col': 6, 'row': 27}, '{j2p3bl}': {'value': '', 'col': 7, 'row': 27}, '{j3p25al}': {'value': '', 'col': 8, 'row': 27}, '{j3p25bl}': {'value': '', 'col': 9, 'row': 27}, '{j4p3al}': {'value': '', 'col': 10, 'row': 27}, '{j4p3bl}': {'value': '', 'col': 11, 'row': 27}, '{j5p3al}': {'value': '', 'col': 12, 'row': 27}, '{j5p3bl}': {'value': '', 'col': 13, 'row': 27}, '{j1p4ac}': {'value': '', 'col': 4, 'row': 31}, '{j1p4bc}': {'value': '', 'col': 5, 'row': 31}, '{j2p4ac}': {'value': '', 'col': 6, 'row': 31}, '{j2p4bc}': {'value': '', 'col': 7, 'row': 31}, '{j3p4ac}': {'value': '', 'col': 8, 'row': 31}, '{j3p4bc}': {'value': '', 'col': 9, 'row': 31}, '{j4p4ac}': {'value': '', 'col': 10, 'row': 31}, '{j4p4bc}': {'value': '', 'col': 11, 'row': 31}, '{j5p4ac}': {'value': '', 'col': 12, 'row': 31}, '{j5p4bc}': {'value': '', 'col': 13, 'row': 31}, '{j1p4ap}': {'value': '', 'col': 4, 'row': 32}, '{j1p4bp}': {'value': '', 'col': 5, 'row': 32}, '{j2p4ap}': {'value': '', 'col': 6, 'row': 32}, '{j2p4bp}': {'value': '', 'col': 7, 'row': 32}, '{j3p4ap}': {'value': '', 'col': 8, 'row': 32}, '{j3p4bp}': {'value': '', 'col': 9, 'row': 32}, '{j4p4ap}': {'value': '', 'col': 10, 'row': 32}, '{j4p4bp}': {'value': '', 'col': 11, 'row': 32}, '{j5p4ap}': {'value': '', 'col': 12, 'row': 32}, '{j5p4bp}': {'value': '', 'col': 13, 'row': 32}, '{j1p4ao}': {'value': '', 'col': 4, 'row': 33}, '{j1p4bo}': {'value': '', 'col': 5, 'row': 33}, '{j2p4ao}': {'value': '', 'col': 6, 'row': 33}, '{j2p4bo}': {'value': '', 'col': 7, 'row': 33}, '{j3p4ao}': {'value': '', 'col': 8, 'row': 33}, '{j3p4bo}': {'value': '', 'col': 9, 'row': 33}, '{j4p4ao}': {'value': '', 'col': 10, 'row': 33}, '{j4p4bo}': {'value': '', 'col': 11, 'row': 33}, '{j5p4ao}': {'value': '', 'col': 12, 'row': 33}, '{j5p4bo}': {'value': '', 'col': 13, 'row': 33}, '{j1p4al}': {'value': '', 'col': 4, 'row': 34}, '{j1p4bl}': {'value': '', 'col': 5, 'row': 34}, '{j2p4al}': {'value': '', 'col': 6, 'row': 34}, '{j2p4bl}': {'value': '', 'col': 7, 'row': 34}, '{j3p4al}': {'value': '', 'col': 8, 'row': 34}, '{j3p4bl}': {'value': '', 'col': 9, 'row': 34}, '{j4p4al}': {'value': '', 'col': 10, 'row': 34}, '{j4p4bl}': {'value': '', 'col': 11, 'row': 34}, '{j5p4al}': {'value': '', 'col': 12, 'row': 34}, '{j5p4bl}': {'value': '', 'col': 13, 'row': 34}}\n"
     ]
    }
   ],
   "source": [
    "print(tags)"
   ]
  },
  {
   "cell_type": "code",
   "execution_count": 8,
   "id": "48c0cb30-1e9b-4a2e-8649-46a337734f4d",
   "metadata": {},
   "outputs": [],
   "source": [
    "classes = df.classe.unique()"
   ]
  },
  {
   "cell_type": "code",
   "execution_count": 9,
   "id": "4f0b2f1c-7d46-41ec-98e6-8f1961084326",
   "metadata": {},
   "outputs": [],
   "source": [
    "for cl in classes :\n",
    "    # get the data\n",
    "    classe = df[df.classe == cl].copy()\n",
    "\n",
    "    # get adequate template\n",
    "    tpl = \"template\"\n",
    "    if \"P0\" in classe.plage.values:\n",
    "        tpl = \"template P0\"\n",
    "    if \"P25\" in classe.plage.values:\n",
    "        tpl = \"template P25\"\n",
    "    template = wb[tpl]\n",
    "    \n",
    "    # copy template\n",
    "    sheet = wb.copy_worksheet(template)\n",
    "    sheet.title = cl\n",
    "    \n",
    "    # get all tags from template\n",
    "    tags = {}\n",
    "    for row in template.iter_rows():\n",
    "        for cell in row:\n",
    "            if cell.value:\n",
    "                if \"{\" in cell.value:\n",
    "                    tags[cell.value] = {\n",
    "                        \"value\" : \"\", # free all tags content\n",
    "                        \"col\" : cell.column,\n",
    "                        \"row\": cell.row\n",
    "                    }\n",
    "\n",
    "\n",
    "    # add logo\n",
    "    img = drawing.image.Image('../templates/Logo Ecole .jpg')\n",
    "    scale = 0.1\n",
    "    img.width = img.width * scale\n",
    "    img.height = img.height * scale\n",
    "    sheet.add_image(img, 'A1')\n",
    "\n",
    "    # set title\n",
    "    tags[\"{title}\"][\"value\"] = cl\n",
    "\n",
    "    # Populate the tags\n",
    "    for i, r in classe.iterrows():\n",
    "        \n",
    "        plage = \"\"\n",
    "        if r[\"plage\"] in [\"P00\", \"P01\"]:\n",
    "            plage = f\"({r.start} - {r.end})\"\n",
    "        if r[\"plage\"] == \"P00\":\n",
    "            r[\"plage\"] = \"P0\"\n",
    "        elif r[\"plage\"] == \"P01\":\n",
    "            r[\"plage\"] = \"P1\"\n",
    "            \n",
    "        t = f\"{{j{r['#day']}{r.plage.lower()}{r['sem']}\"\n",
    "\n",
    "        tags[t+\"c}\"][\"value\"] = r['cours'].upper()\n",
    "        tags[t+\"p}\"][\"value\"] = r[\"pro\"]\n",
    "        tags[t+\"l}\"][\"value\"] = r[\"local\"]\n",
    "        tags[t+\"o}\"][\"value\"] = plage\n",
    "        \n",
    "\n",
    "    # populate the tags in the new sheet\n",
    "    for t in tags:\n",
    "        sheet.cell(row=tags[t]['row'], column=tags[t]['col']).value = tags[t]['value']\n",
    "\n",
    "    # Merge cells if needed\n",
    "    for i, r in classe.iterrows():\n",
    "\n",
    "        plage = \"\"\n",
    "        if r[\"plage\"] in [\"P00\", \"P01\"]:\n",
    "            plage = f\"({r.start} - {r.end})\"\n",
    "        if r[\"plage\"] == \"P00\":\n",
    "            r[\"plage\"] = \"P0\"\n",
    "        elif r[\"plage\"] == \"P01\":\n",
    "            r[\"plage\"] = \"P1\"\n",
    "        \n",
    "        t = f\"{{j{r['#day']}{r.plage.lower()}{r['sem']}\"\n",
    "        \n",
    "        # if AB course, get the corresponding b tag for merging\n",
    "        if r.semaine == 'AB':\n",
    "            tb = f\"{{j{r['#day']}{r.plage.lower()}b\"\n",
    "            for j in ['c', 'p', 'o', 'l']:\n",
    "                sheet.merge_cells(\n",
    "                    start_row=tags[t+j+\"}\"]['row'],\n",
    "                    start_column=tags[t+j+\"}\"]['col'],\n",
    "                    end_row=tags[tb+j+\"}\"]['row'],\n",
    "                    end_column=tags[tb+j+\"}\"]['col']\n",
    "                )  "
   ]
  },
  {
   "cell_type": "code",
   "execution_count": 10,
   "id": "c65e04a2-e2a8-4b5e-9e1d-a666ca145a55",
   "metadata": {},
   "outputs": [],
   "source": [
    "for s in [\"template\",\"template P0\", \"template P25\", \"template P025\"]:\n",
    "    ws = wb[s]\n",
    "    wb.remove(ws)"
   ]
  },
  {
   "cell_type": "code",
   "execution_count": 11,
   "id": "3b048f85",
   "metadata": {},
   "outputs": [],
   "source": [
    "# Save result\n",
    "wb.save(\"../output/horaire_classes.xlsx\")"
   ]
  },
  {
   "cell_type": "code",
   "execution_count": 33,
   "id": "6a5fffc8-b7be-4a8c-b40f-5a64402579a8",
   "metadata": {},
   "outputs": [],
   "source": [
    "wb = load_workbook(filename=\"../templates/schedule_template.xlsx\")"
   ]
  },
  {
   "cell_type": "code",
   "execution_count": 34,
   "id": "8a5b7a6a-7d8c-4f11-80bd-01b8f6c9eaa8",
   "metadata": {},
   "outputs": [],
   "source": [
    "pros = df.pro.unique()"
   ]
  },
  {
   "cell_type": "code",
   "execution_count": 35,
   "id": "43068d66-0047-488a-8639-192b169d4a44",
   "metadata": {},
   "outputs": [],
   "source": [
    "pro = df[df.pro == \"maxime.marlier\"].copy()"
   ]
  },
  {
   "cell_type": "code",
   "execution_count": 36,
   "id": "f814282f-c97f-4871-92f6-6caa64a1358a",
   "metadata": {},
   "outputs": [
    {
     "data": {
      "text/plain": [
       "'5A-SI ; 5B-SI ; 6B-SI'"
      ]
     },
     "execution_count": 36,
     "metadata": {},
     "output_type": "execute_result"
    }
   ],
   "source": [
    "    # # Populate the tags\n",
    "    # for i, r in pro.iterrows():\n",
    "        \n",
    "    #     plage = \"\"\n",
    "    #     if r[\"plage\"] in [\"P00\", \"P01\"]:\n",
    "    #         plage = f\"({r.start} - {r.end})\"\n",
    "    #     if r[\"plage\"] == \"P00\":\n",
    "    #         r[\"plage\"] = \"P0\"\n",
    "    #     elif r[\"plage\"] == \"P01\":\n",
    "    #         r[\"plage\"] = \"P1\"\n",
    "            \n",
    "    #     t = f\"{{j{r['#day']}{r.plage.lower()}{r['sem']}\"\n",
    "\n",
    "    #     tags[t+\"c}\"][\"value\"] = r['cours'].upper()\n",
    "    #     tags[t+\"p}\"][\"value\"] = r[\"pro\"]\n",
    "    #     tags[t+\"l}\"][\"value\"] = r[\"local\"]\n",
    "    #     tags[t+\"o}\"][\"value\"] = r[\"code horaire\"]\n",
    "\n",
    "\" ; \".join(pro[(pro['#day'] == 4 ) & (pro.plage == \"P4\") & (pro.semaine == \"AB\")][\"code horaire\"])"
   ]
  },
  {
   "cell_type": "code",
   "execution_count": 37,
   "id": "ec502a18-9e22-4931-8379-eed86dcb550f",
   "metadata": {},
   "outputs": [],
   "source": [
    "for prof in pros :\n",
    "    # get the data\n",
    "    pro = df[df.pro == prof].copy()\n",
    "\n",
    "    # get adequate template\n",
    "    tpl = \"template\"\n",
    "    if \"P0\" in pro.plage.values:\n",
    "        tpl = \"template P0\"\n",
    "    if \"P25\" in pro.plage.values:\n",
    "        tpl = \"template P025\"\n",
    "    template = wb[tpl]\n",
    "    \n",
    "    # copy template\n",
    "    sheet = wb.copy_worksheet(template)\n",
    "    sheet.title = prof\n",
    "    \n",
    "    # get all tags from template\n",
    "    tags = {}\n",
    "    for row in template.iter_rows():\n",
    "        for cell in row:\n",
    "            if cell.value:\n",
    "                if \"{\" in cell.value:\n",
    "                    tags[cell.value] = {\n",
    "                        \"value\" : \"\", # free all tags content\n",
    "                        \"col\" : cell.column,\n",
    "                        \"row\": cell.row\n",
    "                    }\n",
    "\n",
    "\n",
    "    # add logo\n",
    "    img = drawing.image.Image('../templates/Logo Ecole .jpg')\n",
    "    scale = 0.1\n",
    "    img.width = img.width * scale\n",
    "    img.height = img.height * scale\n",
    "    sheet.add_image(img, 'A1')\n",
    "\n",
    "    # set title\n",
    "    tags[\"{classe}\"][\"value\"] = prof\n",
    "\n",
    "    # Populate the tags\n",
    "    for i, r in pro.iterrows():\n",
    "        \n",
    "        plage = \"\"\n",
    "        if r[\"plage\"] in [\"P00\", \"P01\"]:\n",
    "            plage = f\"({r.start} - {r.end})\"\n",
    "        if r[\"plage\"] == \"P00\":\n",
    "            r[\"plage\"] = \"P0\"\n",
    "        elif r[\"plage\"] == \"P01\":\n",
    "            r[\"plage\"] = \"P1\"\n",
    "            \n",
    "        t = f\"{{j{r['#day']}{r.plage.lower()}{r['sem']}\"\n",
    "        \n",
    "\n",
    "        tags[t+\"c}\"][\"value\"] = r['cours'].upper()\n",
    "        tags[t+\"p}\"][\"value\"] = r[\"pro\"]\n",
    "        tags[t+\"l}\"][\"value\"] = r[\"local\"]\n",
    "        # tags[t+\"o}\"][\"value\"] = r[\"code horaire\"]\n",
    "        tags[t+\"o}\"][\"value\"] = \" ; \".join(pro[(pro['#day'] == r['#day'] ) \n",
    "                                           & (pro.plage == r.plage) \n",
    "                                           & (pro.semaine == r.semaine)][\"code horaire\"])\n",
    "        \n",
    "\n",
    "    # populate the tags in the new sheet\n",
    "    for t in tags:\n",
    "        sheet.cell(row=tags[t]['row'], column=tags[t]['col']).value = tags[t]['value']\n",
    "\n",
    "    # Merge cells if needed\n",
    "    for i, r in pro.iterrows():\n",
    "\n",
    "        plage = \"\"\n",
    "        if r[\"plage\"] in [\"P00\", \"P01\"]:\n",
    "            plage = f\"({r.start} - {r.end})\"\n",
    "        if r[\"plage\"] == \"P00\":\n",
    "            r[\"plage\"] = \"P0\"\n",
    "        elif r[\"plage\"] == \"P01\":\n",
    "            r[\"plage\"] = \"P1\"\n",
    "        \n",
    "        t = f\"{{j{r['#day']}{r.plage.lower()}{r['sem']}\"\n",
    "        \n",
    "        # if AB course, get the corresponding b tag for merging\n",
    "        if r.semaine == 'AB':\n",
    "            tb = f\"{{j{r['#day']}{r.plage.lower()}b\"\n",
    "            for j in ['c', 'p', 'o', 'l']:\n",
    "                sheet.merge_cells(\n",
    "                    start_row=tags[t+j+\"}\"]['row'],\n",
    "                    start_column=tags[t+j+\"}\"]['col'],\n",
    "                    end_row=tags[tb+j+\"}\"]['row'],\n",
    "                    end_column=tags[tb+j+\"}\"]['col']\n",
    "                )  "
   ]
  },
  {
   "cell_type": "code",
   "execution_count": 38,
   "id": "1d102a90-d730-429a-b9d7-8b4e81cd2700",
   "metadata": {},
   "outputs": [],
   "source": [
    "for s in [\"template\",\"template P0\", \"template P25\", \"template P025\"]:\n",
    "    ws = wb[s]\n",
    "    wb.remove(ws)"
   ]
  },
  {
   "cell_type": "code",
   "execution_count": 39,
   "id": "58b5add0-259d-41f5-bf1d-a43c654831b0",
   "metadata": {},
   "outputs": [],
   "source": [
    "# Save result\n",
    "wb.save(\"../output/horaire_pros.xlsx\")"
   ]
  },
  {
   "cell_type": "code",
   "execution_count": null,
   "id": "6388ec1e-0204-4e25-9158-bcb935c3fe08",
   "metadata": {},
   "outputs": [],
   "source": []
  }
 ],
 "metadata": {
  "kernelspec": {
   "display_name": "Python 3 (ipykernel)",
   "language": "python",
   "name": "python3"
  },
  "language_info": {
   "codemirror_mode": {
    "name": "ipython",
    "version": 3
   },
   "file_extension": ".py",
   "mimetype": "text/x-python",
   "name": "python",
   "nbconvert_exporter": "python",
   "pygments_lexer": "ipython3",
   "version": "3.12.3"
  }
 },
 "nbformat": 4,
 "nbformat_minor": 5
}
