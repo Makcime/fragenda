{
 "cells": [
  {
   "cell_type": "code",
   "execution_count": 119,
   "id": "2c867201-af89-4e28-b0e2-ae32b9a01bc0",
   "metadata": {},
   "outputs": [],
   "source": [
    "import pandas as pd\n",
    "from openpyxl import load_workbook\n",
    "import openpyxl"
   ]
  },
  {
   "cell_type": "code",
   "execution_count": 120,
   "id": "dc0ff10f-76fe-4995-b117-fce60c23e444",
   "metadata": {},
   "outputs": [],
   "source": [
    "df = pd.read_excel(\"../input/horaires.xlsx\", \"input\")\n",
    "wb = load_workbook(filename=\"../templates/schedule_template.xlsx\")"
   ]
  },
  {
   "cell_type": "code",
   "execution_count": 121,
   "id": "da488bb9-3c57-415c-9f2c-56f89fdc7014",
   "metadata": {},
   "outputs": [],
   "source": [
    "df[\"sem\"] = df.semaine.apply(lambda x: \"a\" if \"A\" in x else \"b\")"
   ]
  },
  {
   "cell_type": "code",
   "execution_count": 122,
   "id": "82f59e0e-3901-4eac-9c1f-12bf6953a8ca",
   "metadata": {},
   "outputs": [],
   "source": [
    "classe = df[df.classe == \"1cE\"].copy()"
   ]
  },
  {
   "cell_type": "code",
   "execution_count": 123,
   "id": "848bd8c1-3139-4664-9bb0-7cae29a673ef",
   "metadata": {},
   "outputs": [
    {
     "data": {
      "text/plain": [
       "Index(['classe', '#day', 'day', 'plage', 'start', 'end', 'semaine', 'cours',\n",
       "       'pro', '/', 'option', 'sem'],\n",
       "      dtype='object')"
      ]
     },
     "execution_count": 123,
     "metadata": {},
     "output_type": "execute_result"
    }
   ],
   "source": [
    "classe.columns"
   ]
  },
  {
   "cell_type": "code",
   "execution_count": 125,
   "id": "885428d3-32f1-4841-bd97-cfa1bf55f438",
   "metadata": {},
   "outputs": [],
   "source": [
    "# get all tags in sheet\n",
    "tags = {}\n",
    "for row in sheet.iter_rows():\n",
    "    for cell in row:\n",
    "        if cell.value:\n",
    "            if \"{\" in cell.value:\n",
    "                tags[cell.value] = {\"value\" : \"\", \"col\" : cell.column, \"row\": cell.row}"
   ]
  },
  {
   "cell_type": "code",
   "execution_count": 126,
   "id": "dfeb1f49-7e87-4f5b-9cb1-952e2b9893f4",
   "metadata": {},
   "outputs": [],
   "source": [
    "tags[\"{classe}\"][\"value\"] = \"1cE\""
   ]
  },
  {
   "cell_type": "code",
   "execution_count": 139,
   "id": "e3c62093-a1f3-49fd-b5f7-5b91284355b6",
   "metadata": {},
   "outputs": [],
   "source": [
    "# Populate the tags\n",
    "for i, r in classe.iterrows():\n",
    "    t = f\"{{j{r['#day']}{r.plage.lower()}{r['sem']}\"\n",
    "    tags[t+\"c}\"][\"value\"] = r['cours']\n",
    "    tags[t+\"p}\"][\"value\"] = r[\"pro\"]\n",
    "    tags[t+\"o}\"][\"value\"] = r[\"option\"]\n",
    "    tags[t+\"l}\"][\"value\"] = r[\"/\"]"
   ]
  },
  {
   "cell_type": "code",
   "execution_count": 130,
   "id": "e3d98352-41b8-4f39-93e9-e139248afe57",
   "metadata": {},
   "outputs": [],
   "source": [
    "# copy templat for 1cE\n",
    "sheet = wb.copy_worksheet(wb[\"template\"])\n",
    "sheet.title = \"1cE\""
   ]
  },
  {
   "cell_type": "code",
   "execution_count": 140,
   "id": "2387cfc1-044b-4cd2-bf6d-52701fbc34ab",
   "metadata": {},
   "outputs": [],
   "source": [
    "# populate the tags in the new sheet\n",
    "for t in tags:\n",
    "    sheet.cell(row=tags[t]['row'], column=tags[t]['col']).value = tags[t]['value']"
   ]
  },
  {
   "cell_type": "code",
   "execution_count": 138,
   "id": "1df20388-5f96-4730-9776-896f34d5a4e7",
   "metadata": {},
   "outputs": [],
   "source": [
    "# Save result\n",
    "wb.save(\"../output/schedule_classe.xlsx\")"
   ]
  },
  {
   "cell_type": "code",
   "execution_count": null,
   "id": "ec502a18-9e22-4931-8379-eed86dcb550f",
   "metadata": {},
   "outputs": [],
   "source": []
  }
 ],
 "metadata": {
  "kernelspec": {
   "display_name": "Python 3 (ipykernel)",
   "language": "python",
   "name": "python3"
  },
  "language_info": {
   "codemirror_mode": {
    "name": "ipython",
    "version": 3
   },
   "file_extension": ".py",
   "mimetype": "text/x-python",
   "name": "python",
   "nbconvert_exporter": "python",
   "pygments_lexer": "ipython3",
   "version": "3.10.12"
  }
 },
 "nbformat": 4,
 "nbformat_minor": 5
}
